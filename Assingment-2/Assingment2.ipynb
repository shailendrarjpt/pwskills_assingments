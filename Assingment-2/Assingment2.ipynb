{
 "cells": [
  {
   "cell_type": "raw",
   "id": "d28f99cb-31fb-4edc-91d4-fed8875e16b2",
   "metadata": {},
   "source": [
    "#Q1. How do you comment code in Python? What are the different types of comments?\n",
    "\n",
    "1. unsing # for single and multiline comments\n",
    "ex- # this is a single line comment\n",
    "\n",
    "2. using # for muli line comments.\n",
    "ex- # first commented line\n",
    "# second commented line\n",
    "# third commented line\n",
    "\n",
    "3. using single quotes for a single line comment\n",
    "ex - ' this is also a single line comment. '\n",
    "\n",
    "4. using three double quotes for multiline comments\n",
    "ex -\n",
    "\"\"\"\n",
    "this\n",
    "is\n",
    "a \n",
    "multi\n",
    "line\n",
    "comment\n",
    "\"\"\"\n"
   ]
  },
  {
   "cell_type": "raw",
   "id": "f73bb59c-c02f-4d60-b54b-508c2abe9e0e",
   "metadata": {},
   "source": [
    "#Q2. What are variables in Python? How do you declare and assign values to variables?\n",
    "\n",
    "variable is the reference to the object containing the value. we can read or write the values to the object using the reference.\n",
    "\n",
    "ex - \n",
    "name = 'shailendra'\n",
    "age = 30\n",
    "\n",
    "here I am declaring two variables and assinging them the values."
   ]
  },
  {
   "cell_type": "code",
   "execution_count": 10,
   "id": "ea4c7493-3355-4b03-bd76-909949a60f60",
   "metadata": {},
   "outputs": [
    {
     "name": "stdout",
     "output_type": "stream",
     "text": [
      "100\n",
      "<class 'int'>\n",
      "100.0\n",
      "<class 'float'>\n"
     ]
    }
   ],
   "source": [
    "#Q3. How do you convert one data type to another in Python?\n",
    "#we can use explicit type conversion for changing data type from one to another.\n",
    "#ex-\n",
    "num = 100\n",
    "print(num)\n",
    "print(type(num))\n",
    "flo = float(num)\n",
    "print(flo)\n",
    "print(type(flo))"
   ]
  },
  {
   "cell_type": "raw",
   "id": "39ae21a2-313e-4d1e-92ab-d90b50e3080b",
   "metadata": {},
   "source": [
    "Q4. How do you write and execute a Python script from the command line?\n",
    "we can use installed python to run a python script having .py extension.\n",
    "\n",
    "ex- python test.py"
   ]
  },
  {
   "cell_type": "code",
   "execution_count": 13,
   "id": "600217fb-2986-405c-93eb-32db23baddd6",
   "metadata": {},
   "outputs": [
    {
     "name": "stdout",
     "output_type": "stream",
     "text": [
      "[2, 3]\n"
     ]
    }
   ],
   "source": [
    "#Q5. Given a list my_list = [1, 2, 3, 4, 5], write the code to slice the list and obtain the sub-list [2, 3].\n",
    "my_list = [1,2,3,4,5]\n",
    "print(my_list[1:3])"
   ]
  },
  {
   "cell_type": "code",
   "execution_count": 14,
   "id": "f237cec6-55a3-4973-8897-9a6c2f4b9625",
   "metadata": {},
   "outputs": [
    {
     "data": {
      "text/plain": [
       "complex"
      ]
     },
     "execution_count": 14,
     "metadata": {},
     "output_type": "execute_result"
    }
   ],
   "source": [
    "#Q6. What is a complex number in mathematics, and how is it represented in Python?\n",
    "# complext numbers are those represented in the a+ib format\n",
    "# where a and b are real numbers and i is the imaginary number\n",
    "# in python we can assign complex number by using a+bj format\n",
    "\n",
    "num = 3+2j\n",
    "type(num)"
   ]
  },
  {
   "cell_type": "code",
   "execution_count": 16,
   "id": "50c510bc-bdb7-4c7f-bdf0-4afe12ceb801",
   "metadata": {},
   "outputs": [],
   "source": [
    "#Q7. What is the correct way to declare a variable named age and assign the value 25 to it?\n",
    "\n",
    "age = 25"
   ]
  },
  {
   "cell_type": "code",
   "execution_count": 17,
   "id": "430545ed-8022-413b-bade-5011aa11f34d",
   "metadata": {},
   "outputs": [
    {
     "data": {
      "text/plain": [
       "float"
      ]
     },
     "execution_count": 17,
     "metadata": {},
     "output_type": "execute_result"
    }
   ],
   "source": [
    "#Q8. Declare a variable named price and assign the value 9.99 to it. What data type does this variable belong to?\n",
    "#belong to float\n",
    "\n",
    "price = 9.99\n",
    "type(price)"
   ]
  },
  {
   "cell_type": "code",
   "execution_count": 18,
   "id": "bd2db184-a005-4afe-9b0f-6fbf6f920902",
   "metadata": {},
   "outputs": [
    {
     "name": "stdout",
     "output_type": "stream",
     "text": [
      "shailendra rajpoot\n"
     ]
    }
   ],
   "source": [
    "#Q9. Create a variable named name and assign your full name to it as a string. How would you print the value of this variable?\n",
    "\n",
    "name = \"shailendra rajpoot\"\n",
    "print(name)"
   ]
  },
  {
   "cell_type": "code",
   "execution_count": 22,
   "id": "f61e13c4-4392-45e0-8170-199028a0cd6c",
   "metadata": {},
   "outputs": [
    {
     "name": "stdout",
     "output_type": "stream",
     "text": [
      "World\n"
     ]
    }
   ],
   "source": [
    "#Q10. Given the string \"Hello, World!\", extract the substring \"World\".\n",
    "\n",
    "a = \"Hello World!\"\n",
    "print(a[6:11])"
   ]
  },
  {
   "cell_type": "code",
   "execution_count": 25,
   "id": "4a6904aa-343a-4470-9758-9a73949fdbc5",
   "metadata": {},
   "outputs": [
    {
     "name": "stdout",
     "output_type": "stream",
     "text": [
      "True\n"
     ]
    }
   ],
   "source": [
    "#Q11. Create a variable named \"is_student\" and assign it a boolean value indicating whether you are currently a student or not.\n",
    "\n",
    "is_student = True\n",
    "print(is_student)"
   ]
  },
  {
   "cell_type": "code",
   "execution_count": null,
   "id": "e3c400f2-931d-4236-8046-a9e053ad2c27",
   "metadata": {},
   "outputs": [],
   "source": []
  }
 ],
 "metadata": {
  "kernelspec": {
   "display_name": "Python 3 (ipykernel)",
   "language": "python",
   "name": "python3"
  },
  "language_info": {
   "codemirror_mode": {
    "name": "ipython",
    "version": 3
   },
   "file_extension": ".py",
   "mimetype": "text/x-python",
   "name": "python",
   "nbconvert_exporter": "python",
   "pygments_lexer": "ipython3",
   "version": "3.10.8"
  }
 },
 "nbformat": 4,
 "nbformat_minor": 5
}
