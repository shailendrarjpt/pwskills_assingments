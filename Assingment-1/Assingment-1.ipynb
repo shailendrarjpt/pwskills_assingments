{
 "cells": [
  {
   "cell_type": "code",
   "execution_count": 2,
   "id": "1e649f16-ca70-4f78-9851-f90ff119540d",
   "metadata": {},
   "outputs": [
    {
     "name": "stdout",
     "output_type": "stream",
     "text": [
      "<class 'str'>\n",
      "<class 'list'>\n",
      "<class 'float'>\n",
      "<class 'tuple'>\n"
     ]
    }
   ],
   "source": [
    "#Q1. Create one variable containing following type of data:\n",
    "#(i) string\n",
    "#(ii) list\n",
    "#(iii) float\n",
    "#(iv) tuple\n",
    "\n",
    "s = 'string'\n",
    "print(type(s))\n",
    "l = [1,'string',1.0,1+5j,True]\n",
    "print(type(l))\n",
    "f = 1.078\n",
    "print(type(f))\n",
    "t = ('string',1,1.0,True)\n",
    "print(type(t))"
   ]
  },
  {
   "attachments": {},
   "cell_type": "markdown",
   "id": "9efc5340-3c5a-43ea-90ac-1fe687f452b8",
   "metadata": {},
   "source": [
    "Q2. Given are some following variables containing data:\n",
    "(i) var1 = ‘ ‘\n",
    "(ii) var2 = ‘[ DS , ML , Python]’\n",
    "(iii) var3 = [ ‘DS’ , ’ML’ , ‘Python’ ]\n",
    "(iv) var4 = 1.\n",
    "\n",
    "i   -> str\n",
    "ii  -> str\n",
    "iii -> list\n",
    "iv  -> float"
   ]
  },
  {
   "attachments": {},
   "cell_type": "markdown",
   "id": "488a4550-4ff3-4bf2-9fef-4b94e13799e0",
   "metadata": {},
   "source": [
    "Q3. Explain the use of the following operators using an example:\n",
    "(i) /\n",
    "(ii) %\n",
    "(iii) //\n",
    "(iv) **\n",
    "\n",
    "i -> devide the numbers and provides floating result, ex 15/2 will be 7.5\n",
    "ii -> modulus, provides the remainder if any when deviding two numbers\n",
    "iii -> devide and provide the integer (floor) results, ex 15/2 will be 7\n",
    "iv -> power, first number raise to the power second number, ex 2**3 will be 8"
   ]
  },
  {
   "cell_type": "code",
   "execution_count": 3,
   "id": "a1e5ded1-7de4-45ba-8231-624ce440a6d8",
   "metadata": {},
   "outputs": [
    {
     "name": "stdout",
     "output_type": "stream",
     "text": [
      "1\n",
      "<class 'int'>\n",
      "shai\n",
      "<class 'str'>\n",
      "1.0\n",
      "<class 'float'>\n",
      "(1+5j)\n",
      "<class 'complex'>\n",
      "True\n",
      "<class 'bool'>\n",
      "2\n",
      "<class 'int'>\n",
      "5\n",
      "<class 'int'>\n",
      "6\n",
      "<class 'int'>\n",
      "7\n",
      "<class 'int'>\n",
      "8\n",
      "<class 'int'>\n"
     ]
    }
   ],
   "source": [
    "#Q4. Create a list of length 10 of your choice containing multiple types of data. Using for loop print the element and its data type.\n",
    "l=[1,'shai',1.0,1+5j,True,2,5,6,7,8]\n",
    "for x in l:\n",
    "    print(x)\n",
    "    print (type(x))"
   ]
  },
  {
   "cell_type": "code",
   "execution_count": 4,
   "id": "359487b8-7f29-4cfa-95d3-9e9eacb94029",
   "metadata": {},
   "outputs": [
    {
     "name": "stdout",
     "output_type": "stream",
     "text": [
      "3\n"
     ]
    }
   ],
   "source": [
    "#Q5. Using a while loop, verify if the number A is purely divisible by number B and if so then how many times it can be divisible.\n",
    "a=1000\n",
    "b=5\n",
    "res=0\n",
    "while a%b==0:\n",
    "    res=res+1\n",
    "    a = a/b\n",
    "print(res)"
   ]
  },
  {
   "cell_type": "code",
   "execution_count": 5,
   "id": "2942277c-466c-43b2-9af8-df43dbab5253",
   "metadata": {},
   "outputs": [
    {
     "name": "stdout",
     "output_type": "stream",
     "text": [
      "1 is not divisible by 3\n",
      "2 is not divisible by 3\n",
      "3 is divisible by 3\n",
      "4 is not divisible by 3\n",
      "5 is not divisible by 3\n",
      "6 is divisible by 3\n",
      "7 is not divisible by 3\n",
      "8 is not divisible by 3\n",
      "9 is divisible by 3\n",
      "10 is not divisible by 3\n",
      "11 is not divisible by 3\n",
      "12 is divisible by 3\n",
      "13 is not divisible by 3\n",
      "14 is not divisible by 3\n",
      "15 is divisible by 3\n",
      "16 is not divisible by 3\n",
      "17 is not divisible by 3\n",
      "18 is divisible by 3\n",
      "19 is not divisible by 3\n",
      "20 is not divisible by 3\n",
      "21 is divisible by 3\n",
      "22 is not divisible by 3\n",
      "23 is not divisible by 3\n",
      "24 is divisible by 3\n",
      "25 is not divisible by 3\n"
     ]
    }
   ],
   "source": [
    "#Q6. Create a list containing 25 int type data. Using for loop and if-else condition print if the element is divisible by 3 or not.\n",
    "\n",
    "l = [1,2,3,4,5,6,7,8,9,10,11,12,13,14,15,16,17,18,19,20,21,22,23,24,25]\n",
    "for x in l:\n",
    "    if x%3==0:\n",
    "        print( x,'is divisible by 3')\n",
    "    else:\n",
    "        print( x,'is not divisible by 3')"
   ]
  },
  {
   "cell_type": "code",
   "execution_count": 6,
   "id": "d8c203e2-de7c-42f6-abbc-754eeeb899d5",
   "metadata": {},
   "outputs": [
    {
     "name": "stdout",
     "output_type": "stream",
     "text": [
      "2\n",
      "4\n",
      "2\n",
      "2\n"
     ]
    }
   ],
   "source": [
    "#Q7. What do you understand about mutable and immutable data types? Give examples for both showing this property.\n",
    "\n",
    "#Mutable data types are those whose value can be changed after assingment. for example a list can be altered after assinging values to it.\n",
    "#Immutable data types are those whose value can not be changed after assingment, for example tuple.\n",
    "\n",
    "#mutable example code\n",
    "l=[1,2,3]\n",
    "print(l[1])\n",
    "l[1]=4\n",
    "print(l[1])\n",
    "\n",
    "#immutable example code\n",
    "t = (1,2,3)\n",
    "print(t[1])\n",
    "#t[1]=4  ---- this opreration is not allowed as tuple is immutable, uncommenting this line will leads to an error\n",
    "print(t[1])\n"
   ]
  }
 ],
 "metadata": {
  "kernelspec": {
   "display_name": "Python 3 (ipykernel)",
   "language": "python",
   "name": "python3"
  },
  "language_info": {
   "codemirror_mode": {
    "name": "ipython",
    "version": 3
   },
   "file_extension": ".py",
   "mimetype": "text/x-python",
   "name": "python",
   "nbconvert_exporter": "python",
   "pygments_lexer": "ipython3",
   "version": "3.10.10"
  }
 },
 "nbformat": 4,
 "nbformat_minor": 5
}
